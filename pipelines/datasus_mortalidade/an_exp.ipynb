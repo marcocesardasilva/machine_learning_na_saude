{
 "cells": [
  {
   "cell_type": "code",
   "execution_count": 1,
   "metadata": {},
   "outputs": [],
   "source": [
    "# importar bibliotecas\n",
    "from google.cloud import bigquery\n",
    "from google.oauth2 import service_account\n",
    "import pandas as pd"
   ]
  },
  {
   "cell_type": "code",
   "execution_count": 2,
   "metadata": {},
   "outputs": [
    {
     "name": "stderr",
     "output_type": "stream",
     "text": [
      "c:\\Users\\marco\\AppData\\Local\\Programs\\Python\\Python310\\lib\\site-packages\\google\\cloud\\bigquery\\table.py:1563: UserWarning: Dependency google-cloud-bigquery-storage is outdated, please upgrade it to version >= 2.0.0 (version found: 0.0.0).\n",
      "  warnings.warn(str(exc))\n"
     ]
    }
   ],
   "source": [
    "# Realizar conexão com o GCP\n",
    "credentials = service_account.Credentials.from_service_account_file(\"..\\..\\keys\\ml-na-saude-ed1fc3c1a83e.json\")\n",
    "client = bigquery.Client(credentials=credentials, project=credentials.project_id)\n",
    "consulta_sql = \"\"\"SELECT * FROM `ml-na-saude.yll_por_obito.yll_por_obito`\"\"\"\n",
    "df = client.query(consulta_sql).to_dataframe()"
   ]
  },
  {
   "cell_type": "code",
   "execution_count": 3,
   "metadata": {},
   "outputs": [
    {
     "data": {
      "text/html": [
       "<div>\n",
       "<style scoped>\n",
       "    .dataframe tbody tr th:only-of-type {\n",
       "        vertical-align: middle;\n",
       "    }\n",
       "\n",
       "    .dataframe tbody tr th {\n",
       "        vertical-align: top;\n",
       "    }\n",
       "\n",
       "    .dataframe thead th {\n",
       "        text-align: right;\n",
       "    }\n",
       "</style>\n",
       "<table border=\"1\" class=\"dataframe\">\n",
       "  <thead>\n",
       "    <tr style=\"text-align: right;\">\n",
       "      <th></th>\n",
       "      <th>ano_obito</th>\n",
       "      <th>quad_obito</th>\n",
       "      <th>dt_obito</th>\n",
       "      <th>dt_nasc</th>\n",
       "      <th>idade</th>\n",
       "      <th>yll</th>\n",
       "      <th>cid10</th>\n",
       "      <th>cd_mun_res</th>\n",
       "      <th>populacao</th>\n",
       "      <th>__index_level_0__</th>\n",
       "    </tr>\n",
       "  </thead>\n",
       "  <tbody>\n",
       "    <tr>\n",
       "      <th>0</th>\n",
       "      <td>2010</td>\n",
       "      <td>2</td>\n",
       "      <td>2010-07-08 00:00:00+00:00</td>\n",
       "      <td>2005-06-25 00:00:00+00:00</td>\n",
       "      <td>5.03</td>\n",
       "      <td>82.58</td>\n",
       "      <td>E41</td>\n",
       "      <td>120020</td>\n",
       "      <td>81907.0</td>\n",
       "      <td>240</td>\n",
       "    </tr>\n",
       "    <tr>\n",
       "      <th>1</th>\n",
       "      <td>2010</td>\n",
       "      <td>1</td>\n",
       "      <td>2010-01-30 00:00:00+00:00</td>\n",
       "      <td>1980-10-26 00:00:00+00:00</td>\n",
       "      <td>29.26</td>\n",
       "      <td>62.66</td>\n",
       "      <td>A169</td>\n",
       "      <td>270240</td>\n",
       "      <td>49255.0</td>\n",
       "      <td>529</td>\n",
       "    </tr>\n",
       "    <tr>\n",
       "      <th>2</th>\n",
       "      <td>2010</td>\n",
       "      <td>1</td>\n",
       "      <td>2010-04-20 00:00:00+00:00</td>\n",
       "      <td>1993-10-11 00:00:00+00:00</td>\n",
       "      <td>16.52</td>\n",
       "      <td>72.60</td>\n",
       "      <td>E102</td>\n",
       "      <td>270430</td>\n",
       "      <td>955235.0</td>\n",
       "      <td>1865</td>\n",
       "    </tr>\n",
       "    <tr>\n",
       "      <th>3</th>\n",
       "      <td>2010</td>\n",
       "      <td>3</td>\n",
       "      <td>2010-12-09 00:00:00+00:00</td>\n",
       "      <td>1998-05-20 00:00:00+00:00</td>\n",
       "      <td>12.56</td>\n",
       "      <td>77.58</td>\n",
       "      <td>A35</td>\n",
       "      <td>270030</td>\n",
       "      <td>219165.0</td>\n",
       "      <td>2982</td>\n",
       "    </tr>\n",
       "    <tr>\n",
       "      <th>4</th>\n",
       "      <td>2010</td>\n",
       "      <td>3</td>\n",
       "      <td>2010-12-13 00:00:00+00:00</td>\n",
       "      <td>1999-03-08 00:00:00+00:00</td>\n",
       "      <td>11.77</td>\n",
       "      <td>77.58</td>\n",
       "      <td>E41</td>\n",
       "      <td>270915</td>\n",
       "      <td>42144.0</td>\n",
       "      <td>3037</td>\n",
       "    </tr>\n",
       "  </tbody>\n",
       "</table>\n",
       "</div>"
      ],
      "text/plain": [
       "  ano_obito  quad_obito                  dt_obito                   dt_nasc  \\\n",
       "0      2010           2 2010-07-08 00:00:00+00:00 2005-06-25 00:00:00+00:00   \n",
       "1      2010           1 2010-01-30 00:00:00+00:00 1980-10-26 00:00:00+00:00   \n",
       "2      2010           1 2010-04-20 00:00:00+00:00 1993-10-11 00:00:00+00:00   \n",
       "3      2010           3 2010-12-09 00:00:00+00:00 1998-05-20 00:00:00+00:00   \n",
       "4      2010           3 2010-12-13 00:00:00+00:00 1999-03-08 00:00:00+00:00   \n",
       "\n",
       "   idade    yll cid10 cd_mun_res  populacao  __index_level_0__  \n",
       "0   5.03  82.58   E41     120020    81907.0                240  \n",
       "1  29.26  62.66  A169     270240    49255.0                529  \n",
       "2  16.52  72.60  E102     270430   955235.0               1865  \n",
       "3  12.56  77.58   A35     270030   219165.0               2982  \n",
       "4  11.77  77.58   E41     270915    42144.0               3037  "
      ]
     },
     "execution_count": 3,
     "metadata": {},
     "output_type": "execute_result"
    }
   ],
   "source": [
    "df.head()"
   ]
  },
  {
   "cell_type": "code",
   "execution_count": 4,
   "metadata": {},
   "outputs": [
    {
     "data": {
      "text/plain": [
       "ano_obito                         object\n",
       "quad_obito                         int64\n",
       "dt_obito             datetime64[ns, UTC]\n",
       "dt_nasc              datetime64[ns, UTC]\n",
       "idade                            float64\n",
       "yll                              float64\n",
       "cid10                             object\n",
       "cd_mun_res                        object\n",
       "populacao                        float64\n",
       "__index_level_0__                  int64\n",
       "dtype: object"
      ]
     },
     "execution_count": 4,
     "metadata": {},
     "output_type": "execute_result"
    }
   ],
   "source": [
    "df.dtypes"
   ]
  },
  {
   "cell_type": "code",
   "execution_count": 5,
   "metadata": {},
   "outputs": [
    {
     "data": {
      "text/plain": [
       "(1755025, 10)"
      ]
     },
     "execution_count": 5,
     "metadata": {},
     "output_type": "execute_result"
    }
   ],
   "source": [
    "df.shape"
   ]
  },
  {
   "cell_type": "code",
   "execution_count": 6,
   "metadata": {},
   "outputs": [
    {
     "data": {
      "text/plain": [
       "ano_obito              0\n",
       "quad_obito             0\n",
       "dt_obito               0\n",
       "dt_nasc                0\n",
       "idade                  0\n",
       "yll                    0\n",
       "cid10                  0\n",
       "cd_mun_res             0\n",
       "populacao            990\n",
       "__index_level_0__      0\n",
       "dtype: int64"
      ]
     },
     "execution_count": 6,
     "metadata": {},
     "output_type": "execute_result"
    }
   ],
   "source": [
    "df.isna().sum()"
   ]
  },
  {
   "cell_type": "code",
   "execution_count": 7,
   "metadata": {},
   "outputs": [],
   "source": [
    "df = df.dropna(subset=['populacao'])"
   ]
  },
  {
   "cell_type": "code",
   "execution_count": 8,
   "metadata": {},
   "outputs": [
    {
     "data": {
      "text/plain": [
       "ano_obito            0\n",
       "quad_obito           0\n",
       "dt_obito             0\n",
       "dt_nasc              0\n",
       "idade                0\n",
       "yll                  0\n",
       "cid10                0\n",
       "cd_mun_res           0\n",
       "populacao            0\n",
       "__index_level_0__    0\n",
       "dtype: int64"
      ]
     },
     "execution_count": 8,
     "metadata": {},
     "output_type": "execute_result"
    }
   ],
   "source": [
    "df.isna().sum()"
   ]
  },
  {
   "cell_type": "code",
   "execution_count": null,
   "metadata": {},
   "outputs": [],
   "source": []
  }
 ],
 "metadata": {
  "kernelspec": {
   "display_name": "base",
   "language": "python",
   "name": "python3"
  },
  "language_info": {
   "codemirror_mode": {
    "name": "ipython",
    "version": 3
   },
   "file_extension": ".py",
   "mimetype": "text/x-python",
   "name": "python",
   "nbconvert_exporter": "python",
   "pygments_lexer": "ipython3",
   "version": "3.10.6"
  },
  "orig_nbformat": 4
 },
 "nbformat": 4,
 "nbformat_minor": 2
}
