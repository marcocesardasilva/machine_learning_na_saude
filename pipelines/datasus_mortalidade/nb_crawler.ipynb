{
 "cells": [
  {
   "attachments": {},
   "cell_type": "markdown",
   "metadata": {},
   "source": [
    "Importar bibliotecas"
   ]
  },
  {
   "cell_type": "code",
   "execution_count": 16,
   "metadata": {},
   "outputs": [],
   "source": [
    "from selenium import webdriver\n",
    "from selenium.webdriver.chrome.service import Service\n",
    "from selenium.webdriver.common.by import By\n",
    "from selenium.webdriver.chrome.options import Options\n",
    "from selenium.webdriver.support.ui import WebDriverWait\n",
    "from selenium.webdriver.support import expected_conditions as EC"
   ]
  },
  {
   "cell_type": "code",
   "execution_count": 14,
   "metadata": {},
   "outputs": [],
   "source": [
    "# Configurações do WebDriver\n",
    "webdriver_service = Service('caminho_para_o_executável_do_webdriver')\n",
    "webdriver_options = Options()\n",
    "webdriver_options.headless = True  # Execute em segundo plano, sem abrir uma janela do navegador\n",
    "\n",
    "# Caminho do arquivo onde será salvo o download\n",
    "caminho_arquivo_download = 'caminho_para_a_pasta_de_download'\n",
    "\n",
    "# Configurando o WebDriver com as opções e o serviço\n",
    "driver = webdriver.Chrome(service=webdriver_service, options=webdriver_options)\n",
    "\n",
    "# Navegando para a página desejada\n",
    "driver.get('https://sisab.saude.gov.br/paginas/acessoRestrito/relatorio/federal/indicadores/indicadorPainel.xhtml')\n",
    "\n",
    "# Espera até que a página esteja carregada e o elemento desejado seja interagível\n",
    "wait = WebDriverWait(driver, 10)\n",
    "elemento_interagivel = wait.until(EC.element_to_be_clickable((By.ID, 'id_do_elemento_interagivel')))\n",
    "\n",
    "# Realize as ações de seleção de parâmetros desejadas\n",
    "# (por exemplo, clique em botões, preencha formulários, selecione opções de menu suspenso)\n",
    "\n",
    "# Clique no botão de download\n",
    "botao_download = driver.find_element(By.ID, 'id_do_botao_de_download')\n",
    "botao_download.click()\n",
    "\n",
    "# Aguarde o tempo necessário para que o download seja concluído\n",
    "# Você pode usar métodos de espera personalizados aqui para aguardar até que o arquivo seja baixado completamente\n",
    "\n",
    "# Encerre o driver após o download\n",
    "driver.quit()\n"
   ]
  }
 ],
 "metadata": {
  "kernelspec": {
   "display_name": "Python 3",
   "language": "python",
   "name": "python3"
  },
  "language_info": {
   "codemirror_mode": {
    "name": "ipython",
    "version": 3
   },
   "file_extension": ".py",
   "mimetype": "text/x-python",
   "name": "python",
   "nbconvert_exporter": "python",
   "pygments_lexer": "ipython3",
   "version": "3.10.6"
  },
  "orig_nbformat": 4
 },
 "nbformat": 4,
 "nbformat_minor": 2
}
