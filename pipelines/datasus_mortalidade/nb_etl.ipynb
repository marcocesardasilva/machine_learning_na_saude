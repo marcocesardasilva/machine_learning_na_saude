{
 "cells": [
  {
   "cell_type": "code",
   "execution_count": 132,
   "metadata": {},
   "outputs": [
    {
     "name": "stderr",
     "output_type": "stream",
     "text": [
      "C:\\Users\\marco\\AppData\\Local\\Temp\\ipykernel_8412\\4131358260.py:10: DtypeWarning: Columns (4) have mixed types. Specify dtype option on import or set low_memory=False.\n",
      "  df = pd.read_csv(os.path.join(caminho_pasta, arquivo), delimiter=';', encoding='ISO-8859-1')\n"
     ]
    }
   ],
   "source": [
    "import os\n",
    "import re\n",
    "import pandas as pd\n",
    "\n",
    "# caminho para a pasta onde estão os arquivos CSV\n",
    "caminho_pasta = 'dados'\n",
    "arquivo = 'Mortalidade_Geral_2010.csv'\n",
    "\n",
    "# Ler o arquivo CSV com o pandas\n",
    "df = pd.read_csv(os.path.join(caminho_pasta, arquivo), delimiter=';', encoding='ISO-8859-1')\n",
    "# Criar coluna ano_arquivo para identificar arquivo fonte\n",
    "df['ano_arquivo'] = re.findall(r'\\d+', arquivo)[0]\n",
    "# Criar unicidade para não repetir o dado em futuras atualizações\n",
    "df['pk_base_origem'] = df['ano_arquivo'] + '_' + df['CONTADOR'].astype(str)\n",
    "# Realizar correções nas datas de nascimento e óbito\n",
    "df['DTOBITO'] = pd.to_datetime(df['DTOBITO'], format='%d%m%Y', errors='coerce')\n",
    "df['DTNASC'] = pd.to_datetime(df['DTNASC'], format='%d%m%Y', errors='coerce')\n",
    "# Criando a coluna 'ano_obito'\n",
    "df['ano_obito'] = df['DTOBITO'].dt.year.astype(float).astype(pd.Int64Dtype()).astype(str).where(df['DTOBITO'].notna())\n",
    "# Criando a coluna 'quadrimestre_obito' usando pd.cut()\n",
    "df['quadrimestre_obito'] = pd.cut(df['DTOBITO'].dt.month, bins=[1, 5, 9, 13], labels=[1, 2, 3], right=False)\n",
    "\n",
    "# Função para transformar a idade conforme as regras especificadas pela fonte\n",
    "def transformar_idade(idade):\n",
    "    if pd.isnull(idade):\n",
    "        return None\n",
    "    elif str(idade).startswith('4'):\n",
    "        idade_str = str(idade).split('.')[0][1:]\n",
    "        if idade_str:\n",
    "            return int(idade_str)\n",
    "    return 0\n",
    "# Aplicando a transformação na coluna de idade\n",
    "df['IDADE'] = df['IDADE'].apply(transformar_idade)\n",
    "\n",
    "# Transfromar tipo de óbito\n",
    "mapeamento = {1: 'Fetal', 2: 'Não Fetal', 3: 'Ignorado'}\n",
    "df['TIPOBITO'] = df['TIPOBITO'].replace(mapeamento)\n",
    "# Extrair os 6 primeiros dígitos da coluna CODMUNRES\n",
    "df['CODMUNRES'] = df['CODMUNRES'].astype(str).str.slice(stop=6)\n",
    "# Renomear colunas\n",
    "df = df.rename(columns={\n",
    "    'DTOBITO': 'dt_obito',\n",
    "    'DTNASC':'dt_nascimento',\n",
    "    'IDADE':'idade',\n",
    "    'TIPOBITO':'tp_obito',\n",
    "    'CAUSABAS':'cid10',\n",
    "    'CODMUNRES':'cd_municipio_residencia'\n",
    "    })\n",
    "# Selecionar coluna desejadas\n",
    "df = df[[\n",
    "    \"pk_base_origem\",\"ano_arquivo\",\"ano_obito\",\"quadrimestre_obito\",\"dt_obito\",\n",
    "    \"dt_nascimento\",\"idade\",\"tp_obito\",\"cid10\",\"cd_municipio_residencia\"\n",
    "    ]]"
   ]
  },
  {
   "cell_type": "code",
   "execution_count": 133,
   "metadata": {},
   "outputs": [
    {
     "data": {
      "text/html": [
       "<div>\n",
       "<style scoped>\n",
       "    .dataframe tbody tr th:only-of-type {\n",
       "        vertical-align: middle;\n",
       "    }\n",
       "\n",
       "    .dataframe tbody tr th {\n",
       "        vertical-align: top;\n",
       "    }\n",
       "\n",
       "    .dataframe thead th {\n",
       "        text-align: right;\n",
       "    }\n",
       "</style>\n",
       "<table border=\"1\" class=\"dataframe\">\n",
       "  <thead>\n",
       "    <tr style=\"text-align: right;\">\n",
       "      <th></th>\n",
       "      <th>pk_base_origem</th>\n",
       "      <th>ano_arquivo</th>\n",
       "      <th>ano_obito</th>\n",
       "      <th>quadrimestre_obito</th>\n",
       "      <th>dt_obito</th>\n",
       "      <th>dt_nascimento</th>\n",
       "      <th>idade</th>\n",
       "      <th>tp_obito</th>\n",
       "      <th>cid10</th>\n",
       "      <th>cd_municipio_residencia</th>\n",
       "    </tr>\n",
       "  </thead>\n",
       "  <tbody>\n",
       "    <tr>\n",
       "      <th>0</th>\n",
       "      <td>2010_1</td>\n",
       "      <td>2010</td>\n",
       "      <td>2010</td>\n",
       "      <td>2</td>\n",
       "      <td>2010-08-06</td>\n",
       "      <td>1945-04-09</td>\n",
       "      <td>65.0</td>\n",
       "      <td>Não Fetal</td>\n",
       "      <td>R98</td>\n",
       "      <td>120040</td>\n",
       "    </tr>\n",
       "    <tr>\n",
       "      <th>1</th>\n",
       "      <td>2010_2</td>\n",
       "      <td>2010</td>\n",
       "      <td>2010</td>\n",
       "      <td>2</td>\n",
       "      <td>2010-08-06</td>\n",
       "      <td>1912-01-20</td>\n",
       "      <td>98.0</td>\n",
       "      <td>Não Fetal</td>\n",
       "      <td>I219</td>\n",
       "      <td>120040</td>\n",
       "    </tr>\n",
       "    <tr>\n",
       "      <th>2</th>\n",
       "      <td>2010_3</td>\n",
       "      <td>2010</td>\n",
       "      <td>2010</td>\n",
       "      <td>3</td>\n",
       "      <td>2010-10-02</td>\n",
       "      <td>2010-03-17</td>\n",
       "      <td>0.0</td>\n",
       "      <td>Não Fetal</td>\n",
       "      <td>R98</td>\n",
       "      <td>120040</td>\n",
       "    </tr>\n",
       "    <tr>\n",
       "      <th>3</th>\n",
       "      <td>2010_4</td>\n",
       "      <td>2010</td>\n",
       "      <td>2010</td>\n",
       "      <td>1</td>\n",
       "      <td>2010-04-07</td>\n",
       "      <td>2010-04-07</td>\n",
       "      <td>0.0</td>\n",
       "      <td>Não Fetal</td>\n",
       "      <td>P969</td>\n",
       "      <td>120042</td>\n",
       "    </tr>\n",
       "    <tr>\n",
       "      <th>4</th>\n",
       "      <td>2010_5</td>\n",
       "      <td>2010</td>\n",
       "      <td>2010</td>\n",
       "      <td>2</td>\n",
       "      <td>2010-05-13</td>\n",
       "      <td>1971-08-04</td>\n",
       "      <td>38.0</td>\n",
       "      <td>Não Fetal</td>\n",
       "      <td>X999</td>\n",
       "      <td>120020</td>\n",
       "    </tr>\n",
       "  </tbody>\n",
       "</table>\n",
       "</div>"
      ],
      "text/plain": [
       "  pk_base_origem ano_arquivo ano_obito quadrimestre_obito   dt_obito  \\\n",
       "0         2010_1        2010      2010                  2 2010-08-06   \n",
       "1         2010_2        2010      2010                  2 2010-08-06   \n",
       "2         2010_3        2010      2010                  3 2010-10-02   \n",
       "3         2010_4        2010      2010                  1 2010-04-07   \n",
       "4         2010_5        2010      2010                  2 2010-05-13   \n",
       "\n",
       "  dt_nascimento  idade   tp_obito cid10 cd_municipio_residencia  \n",
       "0    1945-04-09   65.0  Não Fetal   R98                  120040  \n",
       "1    1912-01-20   98.0  Não Fetal  I219                  120040  \n",
       "2    2010-03-17    0.0  Não Fetal   R98                  120040  \n",
       "3    2010-04-07    0.0  Não Fetal  P969                  120042  \n",
       "4    1971-08-04   38.0  Não Fetal  X999                  120020  "
      ]
     },
     "execution_count": 133,
     "metadata": {},
     "output_type": "execute_result"
    }
   ],
   "source": [
    "# exibe o dataframe final\n",
    "df.head()"
   ]
  },
  {
   "cell_type": "code",
   "execution_count": 134,
   "metadata": {},
   "outputs": [
    {
     "data": {
      "text/plain": [
       "pk_base_origem                     object\n",
       "ano_arquivo                        object\n",
       "ano_obito                          object\n",
       "quadrimestre_obito               category\n",
       "dt_obito                   datetime64[ns]\n",
       "dt_nascimento              datetime64[ns]\n",
       "idade                             float64\n",
       "tp_obito                           object\n",
       "cid10                              object\n",
       "cd_municipio_residencia            object\n",
       "dtype: object"
      ]
     },
     "execution_count": 134,
     "metadata": {},
     "output_type": "execute_result"
    }
   ],
   "source": [
    "df.dtypes"
   ]
  },
  {
   "cell_type": "code",
   "execution_count": 135,
   "metadata": {},
   "outputs": [
    {
     "data": {
      "text/plain": [
       "Index(['pk_base_origem', 'ano_arquivo', 'ano_obito', 'quadrimestre_obito',\n",
       "       'dt_obito', 'dt_nascimento', 'idade', 'tp_obito', 'cid10',\n",
       "       'cd_municipio_residencia'],\n",
       "      dtype='object')"
      ]
     },
     "execution_count": 135,
     "metadata": {},
     "output_type": "execute_result"
    }
   ],
   "source": [
    "df.columns"
   ]
  },
  {
   "cell_type": "code",
   "execution_count": 136,
   "metadata": {},
   "outputs": [
    {
     "name": "stdout",
     "output_type": "stream",
     "text": [
      "<class 'pandas.core.frame.DataFrame'>\n",
      "RangeIndex: 1136947 entries, 0 to 1136946\n",
      "Data columns (total 10 columns):\n",
      " #   Column                   Non-Null Count    Dtype         \n",
      "---  ------                   --------------    -----         \n",
      " 0   pk_base_origem           1136947 non-null  object        \n",
      " 1   ano_arquivo              1136947 non-null  object        \n",
      " 2   ano_obito                1130681 non-null  object        \n",
      " 3   quadrimestre_obito       1130681 non-null  category      \n",
      " 4   dt_obito                 1130681 non-null  datetime64[ns]\n",
      " 5   dt_nascimento            1124294 non-null  datetime64[ns]\n",
      " 6   idade                    1136943 non-null  float64       \n",
      " 7   tp_obito                 1136947 non-null  object        \n",
      " 8   cid10                    1136947 non-null  object        \n",
      " 9   cd_municipio_residencia  1136947 non-null  object        \n",
      "dtypes: category(1), datetime64[ns](2), float64(1), object(6)\n",
      "memory usage: 79.2+ MB\n"
     ]
    }
   ],
   "source": [
    "df.info()"
   ]
  },
  {
   "cell_type": "code",
   "execution_count": 137,
   "metadata": {},
   "outputs": [
    {
     "data": {
      "text/plain": [
       "(1136947, 10)"
      ]
     },
     "execution_count": 137,
     "metadata": {},
     "output_type": "execute_result"
    }
   ],
   "source": [
    "df.shape"
   ]
  },
  {
   "cell_type": "code",
   "execution_count": 138,
   "metadata": {},
   "outputs": [
    {
     "data": {
      "text/plain": [
       "pk_base_origem                 0\n",
       "ano_arquivo                    0\n",
       "ano_obito                   6266\n",
       "quadrimestre_obito          6266\n",
       "dt_obito                    6266\n",
       "dt_nascimento              12653\n",
       "idade                          4\n",
       "tp_obito                       0\n",
       "cid10                          0\n",
       "cd_municipio_residencia        0\n",
       "dtype: int64"
      ]
     },
     "execution_count": 138,
     "metadata": {},
     "output_type": "execute_result"
    }
   ],
   "source": [
    "df.isna().sum()"
   ]
  },
  {
   "cell_type": "code",
   "execution_count": null,
   "metadata": {},
   "outputs": [],
   "source": []
  },
  {
   "cell_type": "code",
   "execution_count": null,
   "metadata": {},
   "outputs": [],
   "source": []
  }
 ],
 "metadata": {
  "kernelspec": {
   "display_name": "Python 3",
   "language": "python",
   "name": "python3"
  },
  "language_info": {
   "codemirror_mode": {
    "name": "ipython",
    "version": 3
   },
   "file_extension": ".py",
   "mimetype": "text/x-python",
   "name": "python",
   "nbconvert_exporter": "python",
   "pygments_lexer": "ipython3",
   "version": "3.10.6"
  },
  "orig_nbformat": 4
 },
 "nbformat": 4,
 "nbformat_minor": 2
}
