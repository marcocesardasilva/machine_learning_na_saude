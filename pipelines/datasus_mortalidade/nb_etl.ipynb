{
 "cells": [
  {
   "cell_type": "code",
   "execution_count": 59,
   "metadata": {},
   "outputs": [],
   "source": [
    "import os\n",
    "import pandas as pd\n",
    "from dateutil.relativedelta import relativedelta\n",
    "\n",
    "# caminho para a pasta onde estão os arquivos CSV\n",
    "caminho_pasta = 'dados'\n",
    "# lista com os dataframes já tratados\n",
    "dfs = []\n",
    "# Lista com os códigos de cid-10 pertencentes aos ICSAPS\n",
    "COD_ICSAPS = [\"A37\",\"A36\",\"A33\",\"A34\",\"A35\",\"B26\",\"B06\",\"B05\",\"A95\",\"B16\",\"G000\",\"A170\",\"A19\",\"A150\",\"A151\",\"A152\",\"A153\",\"A160\",\"A161\",\"A162\",\n",
    "          \"A154\",\"A155\",\"A156\",\"A157\",\"A158\",\"A159\",\"A163\",\"A164\",\"A165\",\"A166\",\"A167\",\"A168\",\"A169\",\"A171\",\"A172\",\"A173\",\"A174\",\"A175\",\"A176\",\n",
    "          \"A177\",\"A178\",\"A179\",\"A18\",\"I00\",\"I01\",\"I02\",\"A51\",\"A52\",\"A53\",\"B50\",\"B51\",\"B52\",\"B53\",\"B54\",\"B77\",\"E86\",\"A00\",\"A01\",\"A02\",\"A03\",\"A04\",\n",
    "          \"A05\",\"A06\",\"A07\",\"A08\",\"A09\",\"D50\",\"E40\",\"E41\",\"E42\",\"E43\",\"E44\",\"E45\",\"E46\",\"E50\",\"E51\",\"E52\",\"E53\",\"E54\",\"E55\",\"E56\",\"E57\",\"E58\",\n",
    "          \"E59\",\"E60\",\"E61\",\"E62\",\"E63\",\"E64\",\"H66\",\"J00\",\"J01\",\"J02\",\"J03\",\"J06\",\"J31\",\"J13\",\"J14\",\"J153\",\"J154\",\"J158\",\"J159\",\"J181\",\"J45\",\n",
    "          \"J46\",\"J20\",\"J21\",\"J40\",\"J41\",\"J42\",\"J43\",\"J47\",\"J44\",\"I10\",\"I11\",\"I20\",\"I50\",\"J81\",\"I63\",\"I64\",\"I65\",\"I66\",\"I67\",\"I69\",\"G45\",\"G46\",\n",
    "          \"E100\",\"E101\",\"E110\",\"E111\",\"E120\",\"E121\",\"E130\",\"E131\",\"E140\",\"E141\",\"E102\",\"E103\",\"E104\",\"E105\",\"E106\",\"E107\",\"E108\",\"E112\",\"E113\",\n",
    "          \"E114\",\"E115\",\"E116\",\"E117\",\"E118\",\"E122\",\"E123\",\"E124\",\"E125\",\"E126\",\"E127\",\"E128\",\"E132\",\"E133\",\"E134\",\"E135\",\"E136\",\"E137\",\"E138\",\n",
    "          \"E142\",\"E143\",\"E144\",\"E145\",\"E146\",\"E147\",\"E148\",\"E109\",\"E119\",\"E129\",\"E139\",\"E149\",\"G40\",\"G41\",\"N10\",\"N11\",\"N12\",\"N30\",\"N34\",\"N390\",\n",
    "          \"A46\",\"L01\",\"L02\",\"L03\",\"L04\",\"L08\",\"N70\",\"N71\",\"N72\",\"N73\",\"N75\",\"N76\",\"K25\",\"K26\",\"K27\",\"K28\",\"K920\",\"K921\",\"K922\",\"O23\",\"A50\",\"P350\"]\n",
    "\n",
    "for arquivo in os.listdir(caminho_pasta):\n",
    "    if arquivo.endswith('.csv'):\n",
    "        # Ler o arquivo CSV com o pandas\n",
    "        df = pd.read_csv(os.path.join(caminho_pasta, arquivo), delimiter=';', encoding='ISO-8859-1', low_memory=False)\n",
    "        # Função lambda para analisar se é ou não icsaps\n",
    "        df['icsaps'] = df['CAUSABAS'].apply(lambda x: 'Sim' if x in COD_ICSAPS else 'Não')\n",
    "        # Manter apenas dados que são icsaps\n",
    "        df = df[df['icsaps'] == 'Sim']\n",
    "        # Realizar transformação das datas de nascimento e óbito\n",
    "        df['DTOBITO'] = pd.to_datetime(df['DTOBITO'], format='%d%m%Y', errors='coerce')\n",
    "        df['DTNASC'] = pd.to_datetime(df['DTNASC'], format='%d%m%Y', errors='coerce')\n",
    "        # Excluir dados nulos para data de nascimento e de óbito\n",
    "        df = df.dropna(subset=['DTNASC'])\n",
    "        df = df.dropna(subset=['DTOBITO'])\n",
    "        # Criar a coluna idade\n",
    "        df['idade'] = df.apply(lambda row: relativedelta(row['DTOBITO'], row['DTNASC']).years, axis=1)\n",
    "        # Criando a coluna 'ano_obito'\n",
    "        df['ano_obito'] = df['DTOBITO'].dt.year.astype(float).astype(pd.Int64Dtype()).astype(str).where(df['DTOBITO'].notna())\n",
    "        # Criando a coluna 'quadrimestre_obito' usando pd.cut()\n",
    "        df['quad_obito'] = pd.cut(df['DTOBITO'].dt.month, bins=[1, 5, 9, 13], labels=[1, 2, 3], right=False)\n",
    "        # Extrair os 6 primeiros dígitos da coluna CODMUNRES\n",
    "        df['CODMUNRES'] = df['CODMUNRES'].astype(str).str.slice(stop=6)\n",
    "        # Renomear colunas\n",
    "        df = df.rename(columns={\n",
    "            'DTOBITO': 'dt_obito',\n",
    "            'DTNASC':'dt_nasc',\n",
    "            'CAUSABAS':'cid10',\n",
    "            'CODMUNRES':'cd_mun_res'\n",
    "            })\n",
    "        # Selecionar coluna desejadas\n",
    "        df = df[[\"ano_obito\",\"quad_obito\",\"dt_obito\",\"dt_nasc\",\"idade\",\"cid10\",\"cd_mun_res\"]]\n",
    "        # adiciona o dataframe à lista de dataframes\n",
    "        dfs.append(df)\n",
    "# concatena os dataframes em um único dataframe final\n",
    "df_group = pd.concat(dfs, ignore_index=True)"
   ]
  },
  {
   "cell_type": "code",
   "execution_count": 60,
   "metadata": {},
   "outputs": [
    {
     "data": {
      "text/html": [
       "<div>\n",
       "<style scoped>\n",
       "    .dataframe tbody tr th:only-of-type {\n",
       "        vertical-align: middle;\n",
       "    }\n",
       "\n",
       "    .dataframe tbody tr th {\n",
       "        vertical-align: top;\n",
       "    }\n",
       "\n",
       "    .dataframe thead th {\n",
       "        text-align: right;\n",
       "    }\n",
       "</style>\n",
       "<table border=\"1\" class=\"dataframe\">\n",
       "  <thead>\n",
       "    <tr style=\"text-align: right;\">\n",
       "      <th></th>\n",
       "      <th>ano_obito</th>\n",
       "      <th>quad_obito</th>\n",
       "      <th>dt_obito</th>\n",
       "      <th>dt_nasc</th>\n",
       "      <th>idade</th>\n",
       "      <th>cid10</th>\n",
       "      <th>icsaps</th>\n",
       "      <th>cd_mun_res</th>\n",
       "    </tr>\n",
       "  </thead>\n",
       "  <tbody>\n",
       "    <tr>\n",
       "      <th>0</th>\n",
       "      <td>2010</td>\n",
       "      <td>2</td>\n",
       "      <td>2010-05-30</td>\n",
       "      <td>1937-09-04</td>\n",
       "      <td>72</td>\n",
       "      <td>I64</td>\n",
       "      <td>Sim</td>\n",
       "      <td>120070</td>\n",
       "    </tr>\n",
       "    <tr>\n",
       "      <th>1</th>\n",
       "      <td>2010</td>\n",
       "      <td>2</td>\n",
       "      <td>2010-06-08</td>\n",
       "      <td>1916-12-04</td>\n",
       "      <td>93</td>\n",
       "      <td>I10</td>\n",
       "      <td>Sim</td>\n",
       "      <td>120040</td>\n",
       "    </tr>\n",
       "    <tr>\n",
       "      <th>2</th>\n",
       "      <td>2010</td>\n",
       "      <td>1</td>\n",
       "      <td>2010-02-20</td>\n",
       "      <td>1975-04-28</td>\n",
       "      <td>34</td>\n",
       "      <td>J81</td>\n",
       "      <td>Sim</td>\n",
       "      <td>120045</td>\n",
       "    </tr>\n",
       "    <tr>\n",
       "      <th>3</th>\n",
       "      <td>2010</td>\n",
       "      <td>1</td>\n",
       "      <td>2010-03-11</td>\n",
       "      <td>1915-10-12</td>\n",
       "      <td>94</td>\n",
       "      <td>E149</td>\n",
       "      <td>Sim</td>\n",
       "      <td>120040</td>\n",
       "    </tr>\n",
       "    <tr>\n",
       "      <th>4</th>\n",
       "      <td>2010</td>\n",
       "      <td>2</td>\n",
       "      <td>2010-05-14</td>\n",
       "      <td>1918-09-20</td>\n",
       "      <td>91</td>\n",
       "      <td>I10</td>\n",
       "      <td>Sim</td>\n",
       "      <td>120040</td>\n",
       "    </tr>\n",
       "  </tbody>\n",
       "</table>\n",
       "</div>"
      ],
      "text/plain": [
       "  ano_obito quad_obito   dt_obito    dt_nasc  idade cid10 icsaps cd_mun_res\n",
       "0      2010          2 2010-05-30 1937-09-04     72   I64    Sim     120070\n",
       "1      2010          2 2010-06-08 1916-12-04     93   I10    Sim     120040\n",
       "2      2010          1 2010-02-20 1975-04-28     34   J81    Sim     120045\n",
       "3      2010          1 2010-03-11 1915-10-12     94  E149    Sim     120040\n",
       "4      2010          2 2010-05-14 1918-09-20     91   I10    Sim     120040"
      ]
     },
     "execution_count": 60,
     "metadata": {},
     "output_type": "execute_result"
    }
   ],
   "source": [
    "# exibe o dataframe final\n",
    "df_group.head()"
   ]
  },
  {
   "cell_type": "code",
   "execution_count": 61,
   "metadata": {},
   "outputs": [
    {
     "data": {
      "text/plain": [
       "ano_obito             object\n",
       "quad_obito          category\n",
       "dt_obito      datetime64[ns]\n",
       "dt_nasc       datetime64[ns]\n",
       "idade                  int64\n",
       "cid10                 object\n",
       "icsaps                object\n",
       "cd_mun_res            object\n",
       "dtype: object"
      ]
     },
     "execution_count": 61,
     "metadata": {},
     "output_type": "execute_result"
    }
   ],
   "source": [
    "df_group.dtypes"
   ]
  },
  {
   "cell_type": "code",
   "execution_count": 62,
   "metadata": {},
   "outputs": [
    {
     "data": {
      "text/plain": [
       "Index(['ano_obito', 'quad_obito', 'dt_obito', 'dt_nasc', 'idade', 'cid10',\n",
       "       'icsaps', 'cd_mun_res'],\n",
       "      dtype='object')"
      ]
     },
     "execution_count": 62,
     "metadata": {},
     "output_type": "execute_result"
    }
   ],
   "source": [
    "df_group.columns"
   ]
  },
  {
   "cell_type": "code",
   "execution_count": 63,
   "metadata": {},
   "outputs": [
    {
     "name": "stdout",
     "output_type": "stream",
     "text": [
      "<class 'pandas.core.frame.DataFrame'>\n",
      "RangeIndex: 1755154 entries, 0 to 1755153\n",
      "Data columns (total 8 columns):\n",
      " #   Column      Dtype         \n",
      "---  ------      -----         \n",
      " 0   ano_obito   object        \n",
      " 1   quad_obito  category      \n",
      " 2   dt_obito    datetime64[ns]\n",
      " 3   dt_nasc     datetime64[ns]\n",
      " 4   idade       int64         \n",
      " 5   cid10       object        \n",
      " 6   icsaps      object        \n",
      " 7   cd_mun_res  object        \n",
      "dtypes: category(1), datetime64[ns](2), int64(1), object(4)\n",
      "memory usage: 95.4+ MB\n"
     ]
    }
   ],
   "source": [
    "df_group.info()"
   ]
  },
  {
   "cell_type": "code",
   "execution_count": 64,
   "metadata": {},
   "outputs": [
    {
     "data": {
      "text/plain": [
       "(1755154, 8)"
      ]
     },
     "execution_count": 64,
     "metadata": {},
     "output_type": "execute_result"
    }
   ],
   "source": [
    "df_group.shape"
   ]
  },
  {
   "cell_type": "code",
   "execution_count": 65,
   "metadata": {},
   "outputs": [
    {
     "data": {
      "text/plain": [
       "ano_obito     0\n",
       "quad_obito    0\n",
       "dt_obito      0\n",
       "dt_nasc       0\n",
       "idade         0\n",
       "cid10         0\n",
       "icsaps        0\n",
       "cd_mun_res    0\n",
       "dtype: int64"
      ]
     },
     "execution_count": 65,
     "metadata": {},
     "output_type": "execute_result"
    }
   ],
   "source": [
    "df_group.isna().sum()"
   ]
  }
 ],
 "metadata": {
  "kernelspec": {
   "display_name": "Python 3",
   "language": "python",
   "name": "python3"
  },
  "language_info": {
   "codemirror_mode": {
    "name": "ipython",
    "version": 3
   },
   "file_extension": ".py",
   "mimetype": "text/x-python",
   "name": "python",
   "nbconvert_exporter": "python",
   "pygments_lexer": "ipython3",
   "version": "3.11.2"
  },
  "orig_nbformat": 4
 },
 "nbformat": 4,
 "nbformat_minor": 2
}
