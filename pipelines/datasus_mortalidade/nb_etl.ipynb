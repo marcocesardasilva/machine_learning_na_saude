{
 "cells": [
  {
   "cell_type": "code",
   "execution_count": 93,
   "metadata": {},
   "outputs": [],
   "source": [
    "import os\n",
    "import re\n",
    "import pandas as pd\n",
    "\n",
    "# caminho para a pasta onde estão os arquivos CSV\n",
    "caminho_pasta = 'dados'\n",
    "# lista com os dataframes já tratados\n",
    "dfs = []\n",
    "# Lista com os códigos de cid-10 pertencentes aos ICSAPS\n",
    "COD_ICSAPS = [\"A37\",\"A36\",\"A33\",\"A34\",\"A35\",\"B26\",\"B06\",\"B05\",\"A95\",\"B16\",\"G000\",\"A170\",\"A19\",\"A150\",\"A151\",\"A152\",\"A153\",\"A160\",\"A161\",\"A162\",\n",
    "          \"A154\",\"A155\",\"A156\",\"A157\",\"A158\",\"A159\",\"A163\",\"A164\",\"A165\",\"A166\",\"A167\",\"A168\",\"A169\",\"A171\",\"A172\",\"A173\",\"A174\",\"A175\",\"A176\",\n",
    "          \"A177\",\"A178\",\"A179\",\"A18\",\"I00\",\"I01\",\"I02\",\"A51\",\"A52\",\"A53\",\"B50\",\"B51\",\"B52\",\"B53\",\"B54\",\"B77\",\"E86\",\"A00\",\"A01\",\"A02\",\"A03\",\"A04\",\n",
    "          \"A05\",\"A06\",\"A07\",\"A08\",\"A09\",\"D50\",\"E40\",\"E41\",\"E42\",\"E43\",\"E44\",\"E45\",\"E46\",\"E50\",\"E51\",\"E52\",\"E53\",\"E54\",\"E55\",\"E56\",\"E57\",\"E58\",\n",
    "          \"E59\",\"E60\",\"E61\",\"E62\",\"E63\",\"E64\",\"H66\",\"J00\",\"J01\",\"J02\",\"J03\",\"J06\",\"J31\",\"J13\",\"J14\",\"J153\",\"J154\",\"J158\",\"J159\",\"J181\",\"J45\",\n",
    "          \"J46\",\"J20\",\"J21\",\"J40\",\"J41\",\"J42\",\"J43\",\"J47\",\"J44\",\"I10\",\"I11\",\"I20\",\"I50\",\"J81\",\"I63\",\"I64\",\"I65\",\"I66\",\"I67\",\"I69\",\"G45\",\"G46\",\n",
    "          \"E100\",\"E101\",\"E110\",\"E111\",\"E120\",\"E121\",\"E130\",\"E131\",\"E140\",\"E141\",\"E102\",\"E103\",\"E104\",\"E105\",\"E106\",\"E107\",\"E108\",\"E112\",\"E113\",\n",
    "          \"E114\",\"E115\",\"E116\",\"E117\",\"E118\",\"E122\",\"E123\",\"E124\",\"E125\",\"E126\",\"E127\",\"E128\",\"E132\",\"E133\",\"E134\",\"E135\",\"E136\",\"E137\",\"E138\",\n",
    "          \"E142\",\"E143\",\"E144\",\"E145\",\"E146\",\"E147\",\"E148\",\"E109\",\"E119\",\"E129\",\"E139\",\"E149\",\"G40\",\"G41\",\"N10\",\"N11\",\"N12\",\"N30\",\"N34\",\"N390\",\n",
    "          \"A46\",\"L01\",\"L02\",\"L03\",\"L04\",\"L08\",\"N70\",\"N71\",\"N72\",\"N73\",\"N75\",\"N76\",\"K25\",\"K26\",\"K27\",\"K28\",\"K920\",\"K921\",\"K922\",\"O23\",\"A50\",\"P350\"]\n",
    "\n",
    "for arquivo in os.listdir(caminho_pasta):\n",
    "    if arquivo.endswith('.csv'):\n",
    "        # Ler o arquivo CSV com o pandas\n",
    "        df = pd.read_csv(os.path.join(caminho_pasta, arquivo), delimiter=';', encoding='ISO-8859-1', low_memory=False)\n",
    "        # Criar coluna ano_arquivo para identificar arquivo fonte\n",
    "        df['ano_arquivo'] = re.findall(r'\\d+', arquivo)[0]\n",
    "        # Criar unicidade para não repetir o dado em futuras atualizações\n",
    "        df['pk_base_origem'] = df['ano_arquivo'] + '_' + df['CONTADOR'].astype(str)\n",
    "        # Realizar transformação das datas de nascimento e óbito\n",
    "        df['DTOBITO'] = pd.to_datetime(df['DTOBITO'], format='%d%m%Y', errors='coerce')\n",
    "        df['DTNASC'] = pd.to_datetime(df['DTNASC'], format='%d%m%Y', errors='coerce')\n",
    "        # Criando a coluna 'ano_obito'\n",
    "        df['ano_obito'] = df['DTOBITO'].dt.year.astype(float).astype(pd.Int64Dtype()).astype(str).where(df['DTOBITO'].notna())\n",
    "        # Criando a coluna 'quadrimestre_obito' usando pd.cut()\n",
    "        df['quadrimestre_obito'] = pd.cut(df['DTOBITO'].dt.month, bins=[1, 5, 9, 13], labels=[1, 2, 3], right=False)\n",
    "\n",
    "        # Função para transformar a idade conforme as regras especificadas pela fonte\n",
    "        def transformar_idade(idade):\n",
    "            if pd.isnull(idade):\n",
    "                return None\n",
    "            elif str(idade).startswith('4'):\n",
    "                idade_str = str(idade).split('.')[0][1:]\n",
    "                if idade_str:\n",
    "                    return int(idade_str)\n",
    "            return 0\n",
    "        # Aplicando a transformação na coluna de idade\n",
    "        df['IDADE'] = df['IDADE'].apply(transformar_idade)\n",
    "\n",
    "        # Transfromar tipo de óbito\n",
    "        mapeamento = {1: 'Fetal', 2: 'Não Fetal', 3: 'Ignorado'}\n",
    "        df['TIPOBITO'] = df['TIPOBITO'].replace(mapeamento)\n",
    "        # Extrair os 6 primeiros dígitos da coluna CODMUNRES\n",
    "        df['CODMUNRES'] = df['CODMUNRES'].astype(str).str.slice(stop=6)\n",
    "\n",
    "        # Função lambda para aplicar a condição\n",
    "        df['icsaps'] = df['CAUSABAS'].apply(lambda x: 'Sim' if x in COD_ICSAPS else 'Não')\n",
    "\n",
    "        # Renomear colunas\n",
    "        df = df.rename(columns={\n",
    "            'DTOBITO': 'dt_obito',\n",
    "            'DTNASC':'dt_nascimento',\n",
    "            'IDADE':'idade',\n",
    "            'TIPOBITO':'tp_obito',\n",
    "            'CAUSABAS':'cid10',\n",
    "            'CODMUNRES':'cd_municipio_residencia'\n",
    "            })\n",
    "        # Selecionar coluna desejadas\n",
    "        df = df[[\n",
    "            \"pk_base_origem\",\"ano_arquivo\",\"ano_obito\",\"quadrimestre_obito\",\"dt_obito\",\n",
    "            \"dt_nascimento\",\"idade\",\"tp_obito\",\"cid10\",\"icsaps\",\"cd_municipio_residencia\"\n",
    "            ]]\n",
    "        \n",
    "        # adiciona o dataframe à lista de dataframes\n",
    "        dfs.append(df)\n",
    "\n",
    "# concatena os dataframes em um único dataframe final\n",
    "df_group = pd.concat(dfs, ignore_index=True)"
   ]
  },
  {
   "cell_type": "code",
   "execution_count": 94,
   "metadata": {},
   "outputs": [
    {
     "data": {
      "text/html": [
       "<div>\n",
       "<style scoped>\n",
       "    .dataframe tbody tr th:only-of-type {\n",
       "        vertical-align: middle;\n",
       "    }\n",
       "\n",
       "    .dataframe tbody tr th {\n",
       "        vertical-align: top;\n",
       "    }\n",
       "\n",
       "    .dataframe thead th {\n",
       "        text-align: right;\n",
       "    }\n",
       "</style>\n",
       "<table border=\"1\" class=\"dataframe\">\n",
       "  <thead>\n",
       "    <tr style=\"text-align: right;\">\n",
       "      <th></th>\n",
       "      <th>pk_base_origem</th>\n",
       "      <th>ano_arquivo</th>\n",
       "      <th>ano_obito</th>\n",
       "      <th>quadrimestre_obito</th>\n",
       "      <th>dt_obito</th>\n",
       "      <th>dt_nascimento</th>\n",
       "      <th>idade</th>\n",
       "      <th>tp_obito</th>\n",
       "      <th>cid10</th>\n",
       "      <th>icsaps</th>\n",
       "      <th>cd_municipio_residencia</th>\n",
       "    </tr>\n",
       "  </thead>\n",
       "  <tbody>\n",
       "    <tr>\n",
       "      <th>0</th>\n",
       "      <td>2010_1</td>\n",
       "      <td>2010</td>\n",
       "      <td>2010</td>\n",
       "      <td>2</td>\n",
       "      <td>2010-08-06</td>\n",
       "      <td>1945-04-09</td>\n",
       "      <td>65.0</td>\n",
       "      <td>Não Fetal</td>\n",
       "      <td>R98</td>\n",
       "      <td>Não</td>\n",
       "      <td>120040</td>\n",
       "    </tr>\n",
       "    <tr>\n",
       "      <th>1</th>\n",
       "      <td>2010_2</td>\n",
       "      <td>2010</td>\n",
       "      <td>2010</td>\n",
       "      <td>2</td>\n",
       "      <td>2010-08-06</td>\n",
       "      <td>1912-01-20</td>\n",
       "      <td>98.0</td>\n",
       "      <td>Não Fetal</td>\n",
       "      <td>I219</td>\n",
       "      <td>Não</td>\n",
       "      <td>120040</td>\n",
       "    </tr>\n",
       "    <tr>\n",
       "      <th>2</th>\n",
       "      <td>2010_3</td>\n",
       "      <td>2010</td>\n",
       "      <td>2010</td>\n",
       "      <td>3</td>\n",
       "      <td>2010-10-02</td>\n",
       "      <td>2010-03-17</td>\n",
       "      <td>0.0</td>\n",
       "      <td>Não Fetal</td>\n",
       "      <td>R98</td>\n",
       "      <td>Não</td>\n",
       "      <td>120040</td>\n",
       "    </tr>\n",
       "    <tr>\n",
       "      <th>3</th>\n",
       "      <td>2010_4</td>\n",
       "      <td>2010</td>\n",
       "      <td>2010</td>\n",
       "      <td>1</td>\n",
       "      <td>2010-04-07</td>\n",
       "      <td>2010-04-07</td>\n",
       "      <td>0.0</td>\n",
       "      <td>Não Fetal</td>\n",
       "      <td>P969</td>\n",
       "      <td>Não</td>\n",
       "      <td>120042</td>\n",
       "    </tr>\n",
       "    <tr>\n",
       "      <th>4</th>\n",
       "      <td>2010_5</td>\n",
       "      <td>2010</td>\n",
       "      <td>2010</td>\n",
       "      <td>2</td>\n",
       "      <td>2010-05-13</td>\n",
       "      <td>1971-08-04</td>\n",
       "      <td>38.0</td>\n",
       "      <td>Não Fetal</td>\n",
       "      <td>X999</td>\n",
       "      <td>Não</td>\n",
       "      <td>120020</td>\n",
       "    </tr>\n",
       "  </tbody>\n",
       "</table>\n",
       "</div>"
      ],
      "text/plain": [
       "  pk_base_origem ano_arquivo ano_obito quadrimestre_obito   dt_obito  \\\n",
       "0         2010_1        2010      2010                  2 2010-08-06   \n",
       "1         2010_2        2010      2010                  2 2010-08-06   \n",
       "2         2010_3        2010      2010                  3 2010-10-02   \n",
       "3         2010_4        2010      2010                  1 2010-04-07   \n",
       "4         2010_5        2010      2010                  2 2010-05-13   \n",
       "\n",
       "  dt_nascimento  idade   tp_obito cid10 icsaps cd_municipio_residencia  \n",
       "0    1945-04-09   65.0  Não Fetal   R98    Não                  120040  \n",
       "1    1912-01-20   98.0  Não Fetal  I219    Não                  120040  \n",
       "2    2010-03-17    0.0  Não Fetal   R98    Não                  120040  \n",
       "3    2010-04-07    0.0  Não Fetal  P969    Não                  120042  \n",
       "4    1971-08-04   38.0  Não Fetal  X999    Não                  120020  "
      ]
     },
     "execution_count": 94,
     "metadata": {},
     "output_type": "execute_result"
    }
   ],
   "source": [
    "# exibe o dataframe final\n",
    "df_group.head()"
   ]
  },
  {
   "cell_type": "code",
   "execution_count": 95,
   "metadata": {},
   "outputs": [
    {
     "data": {
      "text/plain": [
       "pk_base_origem                     object\n",
       "ano_arquivo                        object\n",
       "ano_obito                          object\n",
       "quadrimestre_obito               category\n",
       "dt_obito                   datetime64[ns]\n",
       "dt_nascimento              datetime64[ns]\n",
       "idade                             float64\n",
       "tp_obito                           object\n",
       "cid10                              object\n",
       "icsaps                             object\n",
       "cd_municipio_residencia            object\n",
       "dtype: object"
      ]
     },
     "execution_count": 95,
     "metadata": {},
     "output_type": "execute_result"
    }
   ],
   "source": [
    "df_group.dtypes"
   ]
  },
  {
   "cell_type": "code",
   "execution_count": 96,
   "metadata": {},
   "outputs": [
    {
     "data": {
      "text/plain": [
       "Index(['pk_base_origem', 'ano_arquivo', 'ano_obito', 'quadrimestre_obito',\n",
       "       'dt_obito', 'dt_nascimento', 'idade', 'tp_obito', 'cid10', 'icsaps',\n",
       "       'cd_municipio_residencia'],\n",
       "      dtype='object')"
      ]
     },
     "execution_count": 96,
     "metadata": {},
     "output_type": "execute_result"
    }
   ],
   "source": [
    "df_group.columns"
   ]
  },
  {
   "cell_type": "code",
   "execution_count": 97,
   "metadata": {},
   "outputs": [
    {
     "name": "stdout",
     "output_type": "stream",
     "text": [
      "<class 'pandas.core.frame.DataFrame'>\n",
      "RangeIndex: 12479256 entries, 0 to 12479255\n",
      "Data columns (total 11 columns):\n",
      " #   Column                   Dtype         \n",
      "---  ------                   -----         \n",
      " 0   pk_base_origem           object        \n",
      " 1   ano_arquivo              object        \n",
      " 2   ano_obito                object        \n",
      " 3   quadrimestre_obito       category      \n",
      " 4   dt_obito                 datetime64[ns]\n",
      " 5   dt_nascimento            datetime64[ns]\n",
      " 6   idade                    float64       \n",
      " 7   tp_obito                 object        \n",
      " 8   cid10                    object        \n",
      " 9   icsaps                   object        \n",
      " 10  cd_municipio_residencia  object        \n",
      "dtypes: category(1), datetime64[ns](2), float64(1), object(7)\n",
      "memory usage: 964.0+ MB\n"
     ]
    }
   ],
   "source": [
    "df_group.info()"
   ]
  },
  {
   "cell_type": "code",
   "execution_count": 98,
   "metadata": {},
   "outputs": [
    {
     "data": {
      "text/plain": [
       "(12479256, 11)"
      ]
     },
     "execution_count": 98,
     "metadata": {},
     "output_type": "execute_result"
    }
   ],
   "source": [
    "df_group.shape"
   ]
  },
  {
   "cell_type": "code",
   "execution_count": 99,
   "metadata": {},
   "outputs": [
    {
     "data": {
      "text/plain": [
       "pk_base_origem                  0\n",
       "ano_arquivo                     0\n",
       "ano_obito                   66735\n",
       "quadrimestre_obito          66735\n",
       "dt_obito                    66735\n",
       "dt_nascimento              117161\n",
       "idade                           4\n",
       "tp_obito                        0\n",
       "cid10                           0\n",
       "icsaps                          0\n",
       "cd_municipio_residencia         0\n",
       "dtype: int64"
      ]
     },
     "execution_count": 99,
     "metadata": {},
     "output_type": "execute_result"
    }
   ],
   "source": [
    "df_group.isna().sum()"
   ]
  },
  {
   "cell_type": "code",
   "execution_count": 100,
   "metadata": {},
   "outputs": [],
   "source": [
    "df_icsaps = df_group[df_group['icsaps'] == 'Sim']"
   ]
  },
  {
   "cell_type": "code",
   "execution_count": 101,
   "metadata": {},
   "outputs": [
    {
     "data": {
      "text/plain": [
       "(1776514, 11)"
      ]
     },
     "execution_count": 101,
     "metadata": {},
     "output_type": "execute_result"
    }
   ],
   "source": [
    "df_icsaps.shape"
   ]
  },
  {
   "cell_type": "code",
   "execution_count": 102,
   "metadata": {},
   "outputs": [
    {
     "data": {
      "text/plain": [
       "pk_base_origem                 0\n",
       "ano_arquivo                    0\n",
       "ano_obito                   9475\n",
       "quadrimestre_obito          9475\n",
       "dt_obito                    9475\n",
       "dt_nascimento              11962\n",
       "idade                          0\n",
       "tp_obito                       0\n",
       "cid10                          0\n",
       "icsaps                         0\n",
       "cd_municipio_residencia        0\n",
       "dtype: int64"
      ]
     },
     "execution_count": 102,
     "metadata": {},
     "output_type": "execute_result"
    }
   ],
   "source": [
    "df_icsaps.isna().sum()"
   ]
  },
  {
   "cell_type": "code",
   "execution_count": 111,
   "metadata": {},
   "outputs": [],
   "source": [
    "df_icsaps_tratado = df_icsaps.dropna(subset=['dt_nascimento'])\n",
    "df_icsaps_tratado = df_icsaps_tratado.dropna(subset=['dt_obito'])\n",
    "df_icsaps_tratado = df_icsaps_tratado.dropna(subset=['idade'])"
   ]
  },
  {
   "cell_type": "code",
   "execution_count": 112,
   "metadata": {},
   "outputs": [
    {
     "data": {
      "text/plain": [
       "(1755154, 11)"
      ]
     },
     "execution_count": 112,
     "metadata": {},
     "output_type": "execute_result"
    }
   ],
   "source": [
    "df_icsaps_tratado.shape"
   ]
  },
  {
   "cell_type": "code",
   "execution_count": 113,
   "metadata": {},
   "outputs": [
    {
     "data": {
      "text/plain": [
       "pk_base_origem             0\n",
       "ano_arquivo                0\n",
       "ano_obito                  0\n",
       "quadrimestre_obito         0\n",
       "dt_obito                   0\n",
       "dt_nascimento              0\n",
       "idade                      0\n",
       "tp_obito                   0\n",
       "cid10                      0\n",
       "icsaps                     0\n",
       "cd_municipio_residencia    0\n",
       "dtype: int64"
      ]
     },
     "execution_count": 113,
     "metadata": {},
     "output_type": "execute_result"
    }
   ],
   "source": [
    "df_icsaps_tratado.isna().sum()"
   ]
  },
  {
   "cell_type": "code",
   "execution_count": 114,
   "metadata": {},
   "outputs": [],
   "source": [
    "# Calcular a diferença em anos entre as colunas de data\n",
    "# df_icsaps_tratado['idade_dif'] = (df_icsaps_tratado['dt_obito'] - df_icsaps_tratado['dt_nascimento']).dt.days // 365\n",
    "\n",
    "from dateutil.relativedelta import relativedelta\n",
    "df_icsaps_tratado['idade_dif'] = df_icsaps_tratado.apply(lambda row: relativedelta(row['dt_obito'], row['dt_nascimento']).years, axis=1)\n",
    "df_icsaps_tratado['idade'] = df_icsaps_tratado['idade'].astype(int)\n",
    "df_icsaps_tratado['idade'] = df_icsaps_tratado['idade'].astype(int)"
   ]
  },
  {
   "cell_type": "code",
   "execution_count": 115,
   "metadata": {},
   "outputs": [
    {
     "data": {
      "text/plain": [
       "pk_base_origem             0\n",
       "ano_arquivo                0\n",
       "ano_obito                  0\n",
       "quadrimestre_obito         0\n",
       "dt_obito                   0\n",
       "dt_nascimento              0\n",
       "idade                      0\n",
       "tp_obito                   0\n",
       "cid10                      0\n",
       "icsaps                     0\n",
       "cd_municipio_residencia    0\n",
       "idade_dif                  0\n",
       "dtype: int64"
      ]
     },
     "execution_count": 115,
     "metadata": {},
     "output_type": "execute_result"
    }
   ],
   "source": [
    "df_icsaps_tratado.isna().sum()"
   ]
  },
  {
   "cell_type": "code",
   "execution_count": 116,
   "metadata": {},
   "outputs": [],
   "source": [
    "df_filtrado = df_icsaps_tratado[df_icsaps_tratado['idade'] != df_icsaps_tratado['idade_dif']]"
   ]
  },
  {
   "cell_type": "code",
   "execution_count": 117,
   "metadata": {},
   "outputs": [
    {
     "data": {
      "text/html": [
       "<div>\n",
       "<style scoped>\n",
       "    .dataframe tbody tr th:only-of-type {\n",
       "        vertical-align: middle;\n",
       "    }\n",
       "\n",
       "    .dataframe tbody tr th {\n",
       "        vertical-align: top;\n",
       "    }\n",
       "\n",
       "    .dataframe thead th {\n",
       "        text-align: right;\n",
       "    }\n",
       "</style>\n",
       "<table border=\"1\" class=\"dataframe\">\n",
       "  <thead>\n",
       "    <tr style=\"text-align: right;\">\n",
       "      <th></th>\n",
       "      <th>pk_base_origem</th>\n",
       "      <th>ano_arquivo</th>\n",
       "      <th>ano_obito</th>\n",
       "      <th>quadrimestre_obito</th>\n",
       "      <th>dt_obito</th>\n",
       "      <th>dt_nascimento</th>\n",
       "      <th>idade</th>\n",
       "      <th>tp_obito</th>\n",
       "      <th>cid10</th>\n",
       "      <th>icsaps</th>\n",
       "      <th>cd_municipio_residencia</th>\n",
       "      <th>idade_dif</th>\n",
       "    </tr>\n",
       "  </thead>\n",
       "  <tbody>\n",
       "    <tr>\n",
       "      <th>429</th>\n",
       "      <td>2010_430</td>\n",
       "      <td>2010</td>\n",
       "      <td>2010</td>\n",
       "      <td>2</td>\n",
       "      <td>2010-07-04</td>\n",
       "      <td>1908-08-26</td>\n",
       "      <td>0</td>\n",
       "      <td>Não Fetal</td>\n",
       "      <td>I64</td>\n",
       "      <td>Sim</td>\n",
       "      <td>120030</td>\n",
       "      <td>101</td>\n",
       "    </tr>\n",
       "    <tr>\n",
       "      <th>794</th>\n",
       "      <td>2010_795</td>\n",
       "      <td>2010</td>\n",
       "      <td>2010</td>\n",
       "      <td>1</td>\n",
       "      <td>2010-02-21</td>\n",
       "      <td>1939-05-14</td>\n",
       "      <td>71</td>\n",
       "      <td>Não Fetal</td>\n",
       "      <td>E126</td>\n",
       "      <td>Sim</td>\n",
       "      <td>120040</td>\n",
       "      <td>70</td>\n",
       "    </tr>\n",
       "    <tr>\n",
       "      <th>843</th>\n",
       "      <td>2010_844</td>\n",
       "      <td>2010</td>\n",
       "      <td>2010</td>\n",
       "      <td>1</td>\n",
       "      <td>2010-01-11</td>\n",
       "      <td>1925-04-20</td>\n",
       "      <td>85</td>\n",
       "      <td>Não Fetal</td>\n",
       "      <td>I64</td>\n",
       "      <td>Sim</td>\n",
       "      <td>120038</td>\n",
       "      <td>84</td>\n",
       "    </tr>\n",
       "    <tr>\n",
       "      <th>1034</th>\n",
       "      <td>2010_1035</td>\n",
       "      <td>2010</td>\n",
       "      <td>2010</td>\n",
       "      <td>1</td>\n",
       "      <td>2010-01-11</td>\n",
       "      <td>1935-03-31</td>\n",
       "      <td>75</td>\n",
       "      <td>Não Fetal</td>\n",
       "      <td>E120</td>\n",
       "      <td>Sim</td>\n",
       "      <td>120040</td>\n",
       "      <td>74</td>\n",
       "    </tr>\n",
       "    <tr>\n",
       "      <th>1097</th>\n",
       "      <td>2010_1098</td>\n",
       "      <td>2010</td>\n",
       "      <td>2010</td>\n",
       "      <td>1</td>\n",
       "      <td>2010-02-11</td>\n",
       "      <td>1942-04-21</td>\n",
       "      <td>68</td>\n",
       "      <td>Não Fetal</td>\n",
       "      <td>N390</td>\n",
       "      <td>Sim</td>\n",
       "      <td>120040</td>\n",
       "      <td>67</td>\n",
       "    </tr>\n",
       "  </tbody>\n",
       "</table>\n",
       "</div>"
      ],
      "text/plain": [
       "     pk_base_origem ano_arquivo ano_obito quadrimestre_obito   dt_obito  \\\n",
       "429        2010_430        2010      2010                  2 2010-07-04   \n",
       "794        2010_795        2010      2010                  1 2010-02-21   \n",
       "843        2010_844        2010      2010                  1 2010-01-11   \n",
       "1034      2010_1035        2010      2010                  1 2010-01-11   \n",
       "1097      2010_1098        2010      2010                  1 2010-02-11   \n",
       "\n",
       "     dt_nascimento  idade   tp_obito cid10 icsaps cd_municipio_residencia  \\\n",
       "429     1908-08-26      0  Não Fetal   I64    Sim                  120030   \n",
       "794     1939-05-14     71  Não Fetal  E126    Sim                  120040   \n",
       "843     1925-04-20     85  Não Fetal   I64    Sim                  120038   \n",
       "1034    1935-03-31     75  Não Fetal  E120    Sim                  120040   \n",
       "1097    1942-04-21     68  Não Fetal  N390    Sim                  120040   \n",
       "\n",
       "      idade_dif  \n",
       "429         101  \n",
       "794          70  \n",
       "843          84  \n",
       "1034         74  \n",
       "1097         67  "
      ]
     },
     "execution_count": 117,
     "metadata": {},
     "output_type": "execute_result"
    }
   ],
   "source": [
    "df_filtrado.head()"
   ]
  },
  {
   "cell_type": "code",
   "execution_count": 118,
   "metadata": {},
   "outputs": [
    {
     "data": {
      "text/plain": [
       "(66434, 12)"
      ]
     },
     "execution_count": 118,
     "metadata": {},
     "output_type": "execute_result"
    }
   ],
   "source": [
    "df_filtrado.shape"
   ]
  },
  {
   "cell_type": "code",
   "execution_count": null,
   "metadata": {},
   "outputs": [],
   "source": []
  }
 ],
 "metadata": {
  "kernelspec": {
   "display_name": "Python 3",
   "language": "python",
   "name": "python3"
  },
  "language_info": {
   "codemirror_mode": {
    "name": "ipython",
    "version": 3
   },
   "file_extension": ".py",
   "mimetype": "text/x-python",
   "name": "python",
   "nbconvert_exporter": "python",
   "pygments_lexer": "ipython3",
   "version": "3.10.6"
  },
  "orig_nbformat": 4
 },
 "nbformat": 4,
 "nbformat_minor": 2
}
