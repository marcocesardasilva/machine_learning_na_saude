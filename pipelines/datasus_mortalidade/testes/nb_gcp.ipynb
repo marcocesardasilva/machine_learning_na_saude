{
 "cells": [
  {
   "attachments": {},
   "cell_type": "markdown",
   "metadata": {},
   "source": [
    "Instalar bibliotecas"
   ]
  },
  {
   "cell_type": "code",
   "execution_count": 1,
   "metadata": {},
   "outputs": [],
   "source": [
    "# pip install google-cloud-bigquery"
   ]
  },
  {
   "attachments": {},
   "cell_type": "markdown",
   "metadata": {},
   "source": [
    "Importar bibliotecas"
   ]
  },
  {
   "cell_type": "code",
   "execution_count": 2,
   "metadata": {},
   "outputs": [],
   "source": [
    "from google.cloud import bigquery\n",
    "from google.oauth2 import service_account\n",
    "import pandas as pd"
   ]
  },
  {
   "attachments": {},
   "cell_type": "markdown",
   "metadata": {},
   "source": [
    "Conectar com o GCP"
   ]
  },
  {
   "cell_type": "code",
   "execution_count": 3,
   "metadata": {},
   "outputs": [],
   "source": [
    "credentials = service_account.Credentials.from_service_account_file(\"ml-na-saude-ed1fc3c1a83e.json\")"
   ]
  },
  {
   "cell_type": "code",
   "execution_count": 4,
   "metadata": {},
   "outputs": [],
   "source": [
    "client = bigquery.Client(credentials=credentials, project=credentials.project_id)"
   ]
  },
  {
   "attachments": {},
   "cell_type": "markdown",
   "metadata": {},
   "source": [
    "Verificar se a tabela manutencao_dw existe\n",
    "- Se não existe:\n",
    "    - Criar tabela\n",
    "    - criar variável proximo_ano = \"2020\" e proximo_mes =  \"01\"\n",
    "- Se já existe:\n",
    "    - Fazer query e verificar valores de proximo_ano e proximo_mes"
   ]
  },
  {
   "cell_type": "code",
   "execution_count": 5,
   "metadata": {},
   "outputs": [],
   "source": [
    "# Obter o database\n",
    "dataset_sisab = client.dataset(\"indicadores_sisab\")"
   ]
  },
  {
   "cell_type": "code",
   "execution_count": 6,
   "metadata": {},
   "outputs": [
    {
     "name": "stdout",
     "output_type": "stream",
     "text": [
      "O conjunto de dados ml-na-saude.indicadores_sisab já foi criado no GCP.\n"
     ]
    }
   ],
   "source": [
    "try:\n",
    "    dataset = client.get_dataset(dataset_sisab)\n",
    "    print(f\"O conjunto de dados {dataset_sisab} já foi criado no GCP.\")\n",
    "except Exception:\n",
    "    client.create_dataset(dataset_sisab)\n",
    "    print(f\"O conjunto de dados {dataset_sisab} foi criado no GCP.\")"
   ]
  },
  {
   "cell_type": "code",
   "execution_count": 6,
   "metadata": {},
   "outputs": [
    {
     "name": "stdout",
     "output_type": "stream",
     "text": [
      "O conjunto de dados ml-na-saude.indicadores_sisab já foi criado no GCP.\n"
     ]
    }
   ],
   "source": [
    "if client.get_dataset(dataset_sisab):\n",
    "    print(f\"O conjunto de dados {dataset_sisab} já foi criado no GCP.\")\n",
    "else:\n",
    "    client.create_dataset(dataset_sisab)\n",
    "    print(f\"O conjunto de dados {dataset_sisab} foi criado no GCP.\")"
   ]
  },
  {
   "cell_type": "code",
   "execution_count": 7,
   "metadata": {},
   "outputs": [],
   "source": [
    "# Tabela e schema da tabela dim_indicador\n",
    "table_dim_indicador = dataset_sisab.table(\"dim_indicador\")\n",
    "\n",
    "schema_dim_indicador = [\n",
    "    bigquery.SchemaField(\"sk_indicador\", \"INTEGER\", mode=\"REQUIRED\"),\n",
    "    bigquery.SchemaField(\"nm_indicador\", \"STRING\"),\n",
    "    bigquery.SchemaField(\"de_indicador\", \"STRING\")\n",
    "]"
   ]
  },
  {
   "cell_type": "code",
   "execution_count": 8,
   "metadata": {},
   "outputs": [],
   "source": [
    "# Tabela e schema da tabela dim_equipe\n",
    "table_dim_equipe = dataset_sisab.table(\"dim_equipe\")\n",
    "\n",
    "schema_dim_equipe = [\n",
    "    bigquery.SchemaField(\"sk_equipe\", \"INTEGER\", mode=\"REQUIRED\"),\n",
    "    bigquery.SchemaField(\"nm_equipe\", \"STRING\"),\n",
    "    bigquery.SchemaField(\"de_equipe\", \"STRING\")\n",
    "]"
   ]
  },
  {
   "cell_type": "code",
   "execution_count": 9,
   "metadata": {},
   "outputs": [],
   "source": [
    "# Tabela e schema da tabela dim_periodo\n",
    "table_dim_periodo = dataset_sisab.table(\"dim_periodo\")\n",
    "\n",
    "schema_dim_periodo = [\n",
    "    bigquery.SchemaField(\"sk_periodo\", \"INTEGER\", mode=\"REQUIRED\"),\n",
    "    bigquery.SchemaField(\"ano\", \"INTEGER\"),\n",
    "    bigquery.SchemaField(\"quadrimestre\", \"INTEGER\")\n",
    "]"
   ]
  },
  {
   "cell_type": "code",
   "execution_count": 11,
   "metadata": {},
   "outputs": [],
   "source": [
    "# Tabela e schema da tabela dim_localidade\n",
    "table_dim_localidade = dataset_sisab.table(\"dim_localidade\")\n",
    "\n",
    "schema_dim_localidade = [\n",
    "    bigquery.SchemaField(\"sk_localidade\", \"INTEGER\", mode=\"REQUIRED\"),\n",
    "    bigquery.SchemaField(\"uf\", \"STRING\"),\n",
    "    bigquery.SchemaField(\"municipio\", \"STRING\")\n",
    "]"
   ]
  },
  {
   "cell_type": "code",
   "execution_count": 12,
   "metadata": {},
   "outputs": [],
   "source": [
    "# Tabela e schema da tabela fato_sisab\n",
    "table_fato_sisab = dataset_sisab.table(\"fato_sisab\")\n",
    "\n",
    "schema_fato_sisab = [\n",
    "    bigquery.SchemaField(\"sk_indicador\", \"INTEGER\", mode=\"REQUIRED\"),\n",
    "    bigquery.SchemaField(\"sk_equipe\", \"INTEGER\", mode=\"REQUIRED\"),\n",
    "    bigquery.SchemaField(\"sk_periodo\", \"INTEGER\", mode=\"REQUIRED\"),\n",
    "    bigquery.SchemaField(\"sk_localidade\", \"INTEGER\", mode=\"REQUIRED\"),\n",
    "    bigquery.SchemaField(\"numerador\", \"INTEGER\"),\n",
    "    bigquery.SchemaField(\"denominador_utilizado\", \"INTEGER\"),\n",
    "    bigquery.SchemaField(\"percentual_quadrimestre\", \"INTEGER\"),\n",
    "    bigquery.SchemaField(\"denominador_identificado\", \"INTEGER\"),\n",
    "    bigquery.SchemaField(\"denominador_estimado\", \"INTEGER\"),\n",
    "    bigquery.SchemaField(\"cadastro\", \"INTEGER\"),\n",
    "    bigquery.SchemaField(\"base_externa\", \"INTEGER\"),\n",
    "    bigquery.SchemaField(\"percentual\", \"INTEGER\"),\n",
    "    bigquery.SchemaField(\"populacao\", \"INTEGER\")\n",
    "]"
   ]
  },
  {
   "cell_type": "code",
   "execution_count": 13,
   "metadata": {},
   "outputs": [],
   "source": [
    "tabelas = {\n",
    "    table_dim_indicador:schema_dim_indicador,\n",
    "    table_dim_equipe:schema_dim_equipe,\n",
    "    table_dim_periodo:schema_dim_periodo,\n",
    "    table_dim_localidade:schema_dim_localidade,\n",
    "    table_fato_sisab:schema_fato_sisab\n",
    "}"
   ]
  },
  {
   "cell_type": "code",
   "execution_count": 14,
   "metadata": {},
   "outputs": [
    {
     "name": "stdout",
     "output_type": "stream",
     "text": [
      "A tabela ml-na-saude.indicadores_sisab.dim_indicador já existe!\n",
      "A tabela ml-na-saude.indicadores_sisab.dim_equipe já existe!\n",
      "A tabela ml-na-saude.indicadores_sisab.dim_periodo já existe!\n",
      "A tabela ml-na-saude.indicadores_sisab.dim_localidade já existe!\n",
      "A tabela ml-na-saude.indicadores_sisab.fato_sisab já existe!\n"
     ]
    }
   ],
   "source": [
    "for tabela_ref, schema in tabelas.items():\n",
    "    try:\n",
    "        client.get_table(tabela_ref, timeout=30)\n",
    "        print(f\"A tabela {tabela_ref} já existe!\")\n",
    "    except:\n",
    "        client.create_table(bigquery.Table(tabela_ref, schema=schema))\n",
    "        print(f\"A tabela {tabela_ref} foi criada.\")"
   ]
  },
  {
   "attachments": {},
   "cell_type": "markdown",
   "metadata": {},
   "source": [
    "Verificar se as tabelas do DW já existem:\n",
    "- Se não existem:\n",
    "    - Criar tabelas"
   ]
  },
  {
   "cell_type": "code",
   "execution_count": null,
   "metadata": {},
   "outputs": [],
   "source": []
  },
  {
   "attachments": {},
   "cell_type": "markdown",
   "metadata": {},
   "source": [
    "Baixar arquivos a partir do proximo_ano e proximo_mes até a última data disponibilizada pela fonte"
   ]
  },
  {
   "cell_type": "code",
   "execution_count": null,
   "metadata": {},
   "outputs": [],
   "source": []
  },
  {
   "attachments": {},
   "cell_type": "markdown",
   "metadata": {},
   "source": []
  },
  {
   "cell_type": "code",
   "execution_count": null,
   "metadata": {},
   "outputs": [],
   "source": []
  }
 ],
 "metadata": {
  "kernelspec": {
   "display_name": "Python 3",
   "language": "python",
   "name": "python3"
  },
  "language_info": {
   "codemirror_mode": {
    "name": "ipython",
    "version": 3
   },
   "file_extension": ".py",
   "mimetype": "text/x-python",
   "name": "python",
   "nbconvert_exporter": "python",
   "pygments_lexer": "ipython3",
   "version": "3.10.6"
  },
  "orig_nbformat": 4
 },
 "nbformat": 4,
 "nbformat_minor": 2
}
